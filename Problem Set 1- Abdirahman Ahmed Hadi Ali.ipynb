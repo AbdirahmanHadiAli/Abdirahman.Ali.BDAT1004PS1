{
 "cells": [
  {
   "cell_type": "markdown",
   "metadata": {},
   "source": [
    "\n",
    "<center><img title=\"a title\" alt=\"Alt text\" src=\"Georgian College Logo.svg\"></center"
   ]
  },
  {
   "cell_type": "markdown",
   "metadata": {
    "slideshow": {
     "slide_type": "slide"
    }
   },
   "source": [
    "\n",
    "\n",
    "<h1><font color='#004b87'><center>BDAT1004-24F-10909 </center></font></h1>\n",
    "<h3><center>Data Programming - Problem Set 1 </center></h3>"
   ]
  },
  {
   "cell_type": "markdown",
   "metadata": {
    "slideshow": {
     "slide_type": "slide"
    }
   },
   "source": [
    "<center><h1><font color='#004b87'>Abdirahman Ahmed Hadi Ali   ID:200579531</center></font></h1>\n",
    "<p></p>\n"
   ]
  },
  {
   "cell_type": "markdown",
   "metadata": {
    "slideshow": {
     "slide_type": "fragment"
    }
   },
   "source": [
    "<h3><font color='#004b87'>Question 1</font></h3>\n",
    "<p></p>\n",
    "\n",
    "<li>What data type is each of the following (evaluate where necessary)?</li>\n"
   ]
  },
  {
   "cell_type": "code",
   "execution_count": 1,
   "metadata": {
    "slideshow": {
     "slide_type": "-"
    }
   },
   "outputs": [
    {
     "name": "stdout",
     "output_type": "stream",
     "text": [
      "<class 'int'>\n",
      "<class 'float'>\n",
      "<class 'bool'>\n",
      "<class 'str'>\n",
      "<class 'int'>\n",
      "<class 'str'>\n",
      "<class 'str'>\n",
      "<class 'float'>\n",
      "<class 'int'>\n",
      "<class 'set'>\n",
      "<class 'bool'>\n",
      "<class 'float'>\n"
     ]
    }
   ],
   "source": [
    "# integer\n",
    "print(type(5))\n",
    "\n",
    "#float\n",
    "print(type(5.0))\n",
    "\n",
    "#boolean\n",
    "print(type(5 > 1))\n",
    "\n",
    "#string\n",
    "print(type('5'))\n",
    "\n",
    "# integer\n",
    "print(type(5 * 2))\n",
    "\n",
    "#string\n",
    "print(type('5' * 2))\n",
    "\n",
    "#string\n",
    "print(type('5' + '2'))\n",
    "\n",
    "# float\n",
    "print(type(5 / 2))\n",
    "\n",
    "# integer\n",
    "print(type(5 % 2))\n",
    "\n",
    "# {5, 2, 1}\n",
    "print(type({5, 2, 1}))\n",
    "\n",
    "# boolean\n",
    "print(type(5 == 3))\n",
    "\n",
    "#float\n",
    "import math\n",
    "print(type(math.pi))\n"
   ]
  },
  {
   "cell_type": "markdown",
   "metadata": {
    "slideshow": {
     "slide_type": "slide"
    }
   },
   "source": [
    "<h3><font color='#004b87'>Question 2</font></h3>\n",
    "<p></p>\n",
    "Write (and evaluate) python expressions that answer these questions:\n",
    "a. How many letters are there in 'Supercalifragilisticexpialidocious'?\n",
    "b. Does 'Supercalifragilisticexpialidocious' contain 'ice' as a substring? \n",
    "c. Which of the following words is the longest:\n",
    "Supercalifragilisticexpialidocious, Honorificabilitudinitatibus, or\n",
    "Bababadalgharaghtakamminarronnkonn?\n",
    "d. Which composer comes first in the dictionary: 'Berlioz', 'Borodin', 'Brian',\n",
    "'Bartok', 'Bellini', 'Buxtehude', 'Bernstein'. Which one comes last?\n",
    "\n"
   ]
  },
  {
   "cell_type": "code",
   "execution_count": 2,
   "metadata": {
    "slideshow": {
     "slide_type": "fragment"
    }
   },
   "outputs": [
    {
     "name": "stdout",
     "output_type": "stream",
     "text": [
      "The number of letters in 'Supercalifragilisticexpialidocious' is:  34\n"
     ]
    }
   ],
   "source": [
    "#(a)\n",
    "word = 'Supercalifragilisticexpialidocious'\n",
    "num_letters = len(word)\n",
    "print(\"The number of letters in 'Supercalifragilisticexpialidocious' is: \", num_letters)"
   ]
  },
  {
   "cell_type": "code",
   "execution_count": 3,
   "metadata": {
    "slideshow": {
     "slide_type": "fragment"
    }
   },
   "outputs": [
    {
     "name": "stdout",
     "output_type": "stream",
     "text": [
      "'Supercalifragilisticexpialidocious' contains 'ice' as a substring:  True\n"
     ]
    }
   ],
   "source": [
    "#(b)\n",
    "substring = 'ice'\n",
    "contains_substring = substring in word\n",
    "print(\"'Supercalifragilisticexpialidocious' contains 'ice' as a substring: \", contains_substring)"
   ]
  },
  {
   "cell_type": "code",
   "execution_count": 4,
   "metadata": {
    "slideshow": {
     "slide_type": "fragment"
    }
   },
   "outputs": [
    {
     "name": "stdout",
     "output_type": "stream",
     "text": [
      "The longest word is: Supercalifragilisticexpialidocious\n"
     ]
    }
   ],
   "source": [
    "#(c)\n",
    "word1 = \"Supercalifragilisticexpialidocious\"\n",
    "word2 = \"Honorificabilitudinitatibus\"\n",
    "word3 = \"Bababadalgharaghtakamminarronnkonn\"\n",
    "\n",
    "\n",
    "longest_word = max(word1, word2, word3, key=len)\n",
    "print(\"The longest word is:\", longest_word)\n"
   ]
  },
  {
   "cell_type": "code",
   "execution_count": 5,
   "metadata": {
    "slideshow": {
     "slide_type": "fragment"
    }
   },
   "outputs": [
    {
     "name": "stdout",
     "output_type": "stream",
     "text": [
      "The first composer is: Bartok\n",
      "The last composer is: Buxtehude\n"
     ]
    }
   ],
   "source": [
    "#(d)\n",
    "\n",
    "composers = ['Berlioz', 'Borodin', 'Brian', 'Bartok', 'Bellini', 'Buxtehude', 'Bernstein']\n",
    "first_composer = min(composers)\n",
    "last_composer = max(composers)\n",
    "print(\"The first composer is:\", first_composer)\n",
    "print(\"The last composer is:\", last_composer)"
   ]
  },
  {
   "cell_type": "markdown",
   "metadata": {
    "slideshow": {
     "slide_type": "slide"
    }
   },
   "source": [
    "<h3><font color='#004b87'>Question 3</font></h3>\n",
    "\n",
    "Implement function triangleArea(a,b,c) that takes as input the lengths of the 3 sides of a triangle\n",
    "and returns the area of the triangle. By Heron's formula, the area of a triangle with side lengths a, b,\n",
    "and c is s(s - a)(s -b)(s -c) , where s = (a+b+c)/2. >>> triangleArea(2,2,2) 1.7320508075688772"
   ]
  },
  {
   "cell_type": "code",
   "execution_count": 6,
   "metadata": {
    "slideshow": {
     "slide_type": "skip"
    }
   },
   "outputs": [
    {
     "name": "stdout",
     "output_type": "stream",
     "text": [
      "1.7320508075688772\n"
     ]
    }
   ],
   "source": [
    "#\n",
    "def triangleArea(a, b, c):\n",
    "    \n",
    "    #semi-perimeter\n",
    "    s = (a + b + c) / 2\n",
    "    \n",
    "    \n",
    "    #Heron's formula\n",
    "    area = (s * (s - a) * (s - b) * (s - c)) ** 0.5\n",
    "    return area\n",
    "\n",
    "\n",
    "   #testing\n",
    "result = triangleArea(2, 2, 2)\n",
    "print(result)"
   ]
  },
  {
   "cell_type": "markdown",
   "metadata": {
    "slideshow": {
     "slide_type": "slide"
    }
   },
   "source": [
    "<h3><font color='#004b87'>Question 4</font></h3>\n",
    "<p></p>\n",
    "\n",
    "Write a program in python to separate odd and even integers in separate arrays. Go\n",
    "to the editor\n",
    "Test Data :\n",
    "Input the number of elements to be stored in the array :5\n",
    "Input 5 elements in the array :\n",
    "element - 0 : 25\n",
    "element - 1 : 47\n",
    "element - 2 : 42\n",
    "element - 3 : 56\n",
    "element - 4 : 32\n",
    "Expected Output:\n",
    "The Even elements are:\n",
    "42 56 32\n",
    "The Odd elements are :\n",
    "25 47\n",
    "\n",
    "\n"
   ]
  },
  {
   "cell_type": "code",
   "execution_count": 7,
   "metadata": {
    "slideshow": {
     "slide_type": "fragment"
    }
   },
   "outputs": [
    {
     "name": "stdout",
     "output_type": "stream",
     "text": [
      "Input the number of elements to be saved in the array: 8\n",
      "element - 0 : 9\n",
      "element - 1 : 33\n",
      "element - 2 : 22\n",
      "element - 3 : 44\n",
      "element - 4 : 77\n",
      "element - 5 : 44\n",
      "element - 6 : 22\n",
      "element - 7 : 11\n",
      "The Even elements are: 22 44 44 22\n",
      "The Odd elements are: 9 33 77 11\n"
     ]
    }
   ],
   "source": [
    "num_elements = int(input(\"Input the number of elements to be saved in the array: \"))\n",
    "\n",
    "even_numbers = []\n",
    "odd_numbers = []\n",
    "\n",
    "\n",
    "for i in range(num_elements):\n",
    "    element = int(input(f\"element - {i} : \"))\n",
    "    if element % 2 == 0:\n",
    "        even_numbers.append(element)\n",
    "    else:\n",
    "        odd_numbers.append(element)\n",
    "\n",
    "\n",
    "        #output\n",
    "print(\"The Even elements are:\", *even_numbers)\n",
    "print(\"The Odd elements are:\", *odd_numbers)"
   ]
  },
  {
   "cell_type": "markdown",
   "metadata": {
    "slideshow": {
     "slide_type": "slide"
    }
   },
   "source": [
    "<h3><font color='#004b87'>Question 5</font></h3>\n",
    "<p></p>\n",
    "a. Write a function inside(x,y,x1,y1,x2,y2) that returns True or False\n",
    "depending on whether the point (x,y) lies in the rectangle with lower left\n",
    "corner (x1,y1) and upper right corner (x2,y2).\n",
    ">>> inside(1,1,0,0,2,3)\n",
    "True\n",
    ">>> inside(-1,-1,0,0,2,3)\n",
    "False\n",
    "b. Use function inside() from part a. to write an expression that tests whether\n",
    "the point (1,1) lies in both of the following rectangles: one with lower left\n",
    "corner (0.3, 0.5) and upper right corner (1.1, 0.7) and the other with lower\n",
    "left corner (0.5, 0.2) and upper right corner (1.1, 2). \n",
    "<p></p>"
   ]
  },
  {
   "cell_type": "code",
   "execution_count": 8,
   "metadata": {
    "slideshow": {
     "slide_type": "fragment"
    }
   },
   "outputs": [
    {
     "name": "stdout",
     "output_type": "stream",
     "text": [
      "True\n",
      "False\n"
     ]
    }
   ],
   "source": [
    "#(a)\n",
    "\n",
    "    #function\n",
    "def inside(x, y, x1, y1, x2, y2):\n",
    "    \n",
    "    \n",
    "    #check if point (x, y) is inside the rectangle defined by (x1, y1)for x  and (x2, y2) for y\n",
    "    if x1 <= x <= x2 and y1 <= y <= y2:\n",
    "        return True  # If true\n",
    "    else:\n",
    "        return False  # or esle false\n",
    "\n",
    "     #testing\n",
    "\n",
    "print(inside(1, 1, 0, 0, 2, 3))    #ths will print true\n",
    "\n",
    "print(inside(-1, -1, 0, 0, 2, 3)) # this will print false\n"
   ]
  },
  {
   "cell_type": "code",
   "execution_count": 9,
   "metadata": {
    "slideshow": {
     "slide_type": "fragment"
    }
   },
   "outputs": [
    {
     "name": "stdout",
     "output_type": "stream",
     "text": [
      "The point (1,1) does not lie inside both rectangles.\n"
     ]
    }
   ],
   "source": [
    "#(b)\n",
    "   #testing\n",
    "rect1_result = inside(1, 1, 0.5, 0.2, 1.1, 2)\n",
    "rect2_result = inside(1, 1, 0.5, 1.2, 1.1, 2)\n",
    "\n",
    "if rect1_result and rect2_result:\n",
    " print(\"The point (1,1) lies inside both rectangles.\")\n",
    "else:\n",
    " print(\"The point (1,1) does not lie inside both rectangles.\")"
   ]
  },
  {
   "cell_type": "markdown",
   "metadata": {
    "slideshow": {
     "slide_type": "slide"
    }
   },
   "source": [
    "<h3><font color='#004b87'>Question 6</font></h3>\n",
    "<p></p>\n",
    "You can turn a word into pig-Latin using the following two rules (simplified):\n",
    "• If the word starts with a consonant, move that letter to the end and append\n",
    "'ay'. For example, 'happy' becomes 'appyhay' and 'pencil' becomes 'encilpay'.\n",
    "• If the word starts with a vowel, simply append 'way' to the end of the word.\n",
    "For example, 'enter' becomes 'enterway' and 'other' becomes 'otherway' . For\n",
    "our purposes, there are 5 vowels: a, e, i, o, u (so we count y as a consonant).\n",
    "Write a function pig() that takes a word (i.e., a string) as input and returns its pigLatin form. Your function should still work if the input word contains upper case\n",
    "characters. Your output should always be lower case however.\n",
    ">>> pig('happy')\n",
    "'appyhay'\n",
    ">>> pig('Enter')\n",
    "'enterway' \n",
    "<p></p>\n",
    "\n"
   ]
  },
  {
   "cell_type": "code",
   "execution_count": 10,
   "metadata": {},
   "outputs": [
    {
     "name": "stdout",
     "output_type": "stream",
     "text": [
      "appyhay\n",
      "enterway\n"
     ]
    }
   ],
   "source": [
    "def pig(word):\n",
    "    #convert the word to lower case to make uniform\n",
    "    word = word.lower()\n",
    "\n",
    "    #check if it starts with the aeiou\n",
    "    if word[0] in 'aeiou':\n",
    "        return word + 'way'\n",
    "    else:\n",
    "        #if it starts with a consonant, move the first letter to the end and then add (ay)\n",
    "        return word[1:] + word[0] + 'ay'\n",
    "\n",
    "   #testing\n",
    "print(pig('happy'))  \n",
    "print(pig('Enter')) \n"
   ]
  },
  {
   "cell_type": "markdown",
   "metadata": {},
   "source": [
    "<h3><font color='#004b87'>Question 7</font></h3>\n",
    "<p></p>\n",
    "File bloodtype1.txt records blood-types of patients (A, B, AB, O or OO) at a clinic.\n",
    "Write a function bldcount() that reads the file with name name and reports (i.e.,\n",
    "prints) how many patients there are in each bloodtype.\n",
    ">>> bldcount('bloodtype.txt')\n",
    "There are 10 patients of blood type A.\n",
    "There is one patient of blood type B.\n",
    "There are 10 patients of blood type AB.\n",
    "There are 12 patients of blood type O.\n",
    "There are no patients of blood type OO.\n",
    "<p></p>"
   ]
  },
  {
   "cell_type": "code",
   "execution_count": 11,
   "metadata": {
    "slideshow": {
     "slide_type": "fragment"
    }
   },
   "outputs": [],
   "source": [
    "def bldcount(filename):\n",
    "    \n",
    "    \n",
    "    #create a dictionary to save the counts of ethe blood types\n",
    "    blood_count = {'A': 0, 'B': 0, 'AB': 0, 'O': 0, 'OO': 0}\n",
    "\n",
    "    \n",
    "    file = open(filename, 'r')\n",
    "\n",
    "    #walk through each line in the file\n",
    "    for line in file:\n",
    "        #split it into separate blood types\n",
    "        blood_types = line.split()\n",
    "\n",
    "        #counting each blood type now\n",
    "        for blood_type in blood_types:\n",
    "            if blood_type in blood_count:\n",
    "                blood_count[blood_type] += 1\n",
    "\n",
    "    \n",
    "    file.close()\n",
    "\n",
    "    #print the output\n",
    "    for blood_type in blood_count:\n",
    "        count = blood_count[blood_type]\n",
    "        if count == 1:\n",
    "            print(\"There is one patient of blood type\", blood_type)\n",
    "        elif count > 1:\n",
    "            print(\"There are\", count, \"patients of blood type\", blood_type)\n",
    "        else:\n",
    "            print(\"There are no patients of blood type\", blood_type)\n",
    "\n"
   ]
  },
  {
   "cell_type": "code",
   "execution_count": 12,
   "metadata": {},
   "outputs": [
    {
     "name": "stdout",
     "output_type": "stream",
     "text": [
      "There are 15 patients of blood type A\n",
      "There is one patient of blood type B\n",
      "There are 13 patients of blood type AB\n",
      "There are 15 patients of blood type O\n",
      "There are no patients of blood type OO\n"
     ]
    }
   ],
   "source": [
    "#testing\n",
    "bldcount(r'C:\\Users\\Dell_User\\OneDrive - Georgian College\\Desktop\\bloodtype1.txt')\n"
   ]
  },
  {
   "cell_type": "markdown",
   "metadata": {
    "slideshow": {
     "slide_type": "slide"
    }
   },
   "source": [
    "<h3><font color='#004b87'>Question 8</font></h3>\n",
    "<p></p>\n",
    "Write a function curconv() that takes as input: 1. a currency represented using a string (e.g., 'JPY' for \n",
    "the Japanese Yen or 'EUR' for the Euro) 2. an amount and then converts and returns the amount in \n",
    "US dollars. >>> curconv('EUR', 100) 122.96544 >>> curconv('JPY', 100) 1.241401 The currency rates \n",
    "you will need are stored in file currencies.txt: AUD 1.0345157 Australian Dollar CHF 1.0237414 \n",
    "Swiss Franc CNY 0.1550176 Chinese Yuan BDAT 1004 – Data Programming Page 5 of 6 F2021 BDAT \n",
    "1004 Computer Studies DKK 0.1651442 Danish Krone EUR 1.2296544 Euro GBP 1.5550989 British \n",
    "Pound HKD 0.1270207 Hong Kong Dollar INR 0.0177643 Indian Rupee JPY 0.01241401 Japanese \n",
    "Yen MXN 0.0751848 Mexican Peso MYR 0.3145411 Malaysian Ringgit NOK 0.1677063 Norwegian \n",
    "Krone NZD 0.8003591 New Zealand Dollar PHP 0.0233234 Philippine Peso SEK 0.148269 Swedish \n",
    "Krona SGD 0.788871 Singapore Dollar THB 0.0313789 Thai Baht\n",
    "<p></p>\n"
   ]
  },
  {
   "cell_type": "code",
   "execution_count": 13,
   "metadata": {
    "slideshow": {
     "slide_type": "fragment"
    }
   },
   "outputs": [
    {
     "name": "stdout",
     "output_type": "stream",
     "text": [
      "122.96544\n",
      "the currency 'CAD' not found.\n"
     ]
    }
   ],
   "source": [
    "def curconv(currency, amount):\n",
    "    \n",
    "    #creat dictionary to save currency rates\n",
    "    currency_rates = {}\n",
    "    \n",
    "    #reading currency rates from the file and store them in the dictionary\n",
    "    with open(r'C:\\Users\\Dell_User\\OneDrive - Georgian College\\Desktop\\currencies.txt', 'r') as file:\n",
    "        for line in file:\n",
    "            parts = line.split()\n",
    "            currency_rates[parts[0]] = float(parts[1])\n",
    "    \n",
    "    #check if the currency is in the dictionary\n",
    "    if currency in currency_rates:\n",
    "                                                         #convert the amount to USD using the rates\n",
    "        usd_amount = amount * currency_rates[currency]\n",
    "        return usd_amount\n",
    "    else:\n",
    "                                                        #if the currency is not found, return message not found\n",
    "        return f\"the currency '{currency}' not found.\"\n",
    "\n",
    "     #testing\n",
    "print(curconv('EUR', 100))  \n",
    "print(curconv('CAD', 100))\n"
   ]
  },
  {
   "cell_type": "markdown",
   "metadata": {
    "slideshow": {
     "slide_type": "slide"
    }
   },
   "source": [
    "<h3><font color='#004b87'>Question 9</font></h3>\n",
    "<p></p>\n",
    "Each of the following will cause an exception (an error). Identify what type of exception each will\n",
    "cause. \n",
    "rying to add incompatible variables, as in\n",
    "adding 6 + ‘a’\n",
    "Referring to the 12th item of a list that has only 10\n",
    "items\n",
    "Using a value that is out of range for a function’s\n",
    "input, such as calling math.sqrt(-1.0)\n",
    "Using an undeclared variable, such as print(x)\n",
    "when x has not been defined\n",
    "Trying to open a file that does not exist, such as\n",
    "mistyping the file name or looking in the wrong\n",
    "directory.\n",
    "<p></p>   "
   ]
  },
  {
   "cell_type": "markdown",
   "metadata": {
    "slideshow": {
     "slide_type": "slide"
    }
   },
   "source": [
    "<ul>\n",
    "  <li>\n",
    "    Adding incompatible variables, like 6 + 'a':<br>\n",
    "    <strong>Type of Exception:</strong> TypeError<br>\n",
    "    <em>because</em> You cannot add an integer (6) to a string ('a'), as they are incompatible data types.\n",
    "  </li>\n",
    "  <li>\n",
    "    Referring to the 12th item of a list that has only 10 items:<br>\n",
    "    <strong>Type of Exception:</strong> IndexError<br>\n",
    "    <em>because</em> You're trying to access an index that is out of the list's range (there is no 12th item in a list of size 10).\n",
    "  </li>\n",
    "  <li>\n",
    "    Using a value that is out of range for a function’s input, like calling math.sqrt(-1.0):<br>\n",
    "    <strong>Type of Exception:</strong> ValueError<br>\n",
    "    <em>because</em> The square root function cannot take negative numbers as input in the real number domain.\n",
    "  </li>\n",
    "  <li>\n",
    "    Using an undeclared variable, like print(x) when x has not been defined:<br>\n",
    "    <strong>Type of Exception:</strong> NameError<br>\n",
    "    <em>because</em> The variable x has not been declared or assigned any value before it is used.\n",
    "  </li>\n",
    "  <li>\n",
    "    Trying to open a file that does not exist, like mistyping the file name:<br>\n",
    "    <strong>Type of Exception:</strong> FileNotFoundError<br>\n",
    "    <em>because</em> The program cannot find the file at the specified location or with the specified name.\n",
    "  </li>\n",
    "</ul>\n"
   ]
  },
  {
   "cell_type": "markdown",
   "metadata": {
    "slideshow": {
     "slide_type": "slide"
    }
   },
   "source": [
    "<h3><font color='#004b87'>Question 10</font></h3>\n",
    "<p></p>\n",
    "Encryption is the process of hiding the meaning of a text by substituting letters in the message with\n",
    "other letters, according to some system. If the process is successful, no one but the intended\n",
    "recipient can understand the encrypted message. Cryptanalysis refers to attempts to undo the\n",
    "encryption, even if some details of the encryption are unknown (for example, if an encrypted\n",
    "message has been intercepted). The first step of cryptanalysis is often to build up a table of letter\n",
    "frequencies in the encrypted text. Assume that the string letters is already defined as\n",
    "'abcdefghijklmnopqrstuvwxyz'. Write a function called frequencies() that takes a string as its only\n",
    "parameter, and returns a list of integers, showing the number of times each character appears in\n",
    "the text. Your function may ignore any characters that are not in letters. >>> frequencies('The quick\n",
    "red fox got bored and went home.') [1, 1, 1, 3, 5, 1, 1, 2, 1, 0, 1, 0, 1, 2, 4, 0, 1, 2, 0, 2, 1, 0, 1, 1, 0, 0]\n",
    ">>> frequencies('apple')\n",
    "<p></p> \n",
    "\n"
   ]
  },
  {
   "cell_type": "code",
   "execution_count": 14,
   "metadata": {
    "slideshow": {
     "slide_type": "fragment"
    }
   },
   "outputs": [
    {
     "name": "stdout",
     "output_type": "stream",
     "text": [
      "[5, 1, 0, 1, 1, 1, 0, 2, 4, 0, 0, 0, 2, 3, 2, 0, 0, 2, 2, 3, 1, 0, 1, 0, 1, 0]\n",
      "[1, 0, 0, 0, 1, 0, 0, 0, 0, 0, 0, 1, 0, 0, 0, 2, 0, 0, 0, 0, 0, 0, 0, 0, 0, 0]\n"
     ]
    }
   ],
   "source": [
    "def frequencies(text):\n",
    "    #define the alphabet\n",
    "    letters = 'abcdefghijklmnopqrstuvwxyz'\n",
    "    \n",
    "     #initialize a list to save the frequencies of each letter\n",
    "    frequency_list = [0] * 26\n",
    "    \n",
    "    #here i convert the text to lowercase to make it uniform\n",
    "    text = text.lower()\n",
    "    \n",
    "       #walking through each character in the text\n",
    "    for char in text:\n",
    "        \n",
    "        #checking if the character is a letter or not\n",
    "        if char in letters:\n",
    "                                          #increase the count\n",
    "            index = letters.index(char)\n",
    "            frequency_list[index] += 1\n",
    "    \n",
    "    return frequency_list\n",
    "\n",
    "         #testing\n",
    "print(frequencies('what is your name if its not abdirahman'))\n",
    "print(frequencies('apple'))"
   ]
  }
 ],
 "metadata": {
  "celltoolbar": "Slideshow",
  "kernelspec": {
   "display_name": "Python 3 (ipykernel)",
   "language": "python",
   "name": "python3"
  },
  "language_info": {
   "codemirror_mode": {
    "name": "ipython",
    "version": 3
   },
   "file_extension": ".py",
   "mimetype": "text/x-python",
   "name": "python",
   "nbconvert_exporter": "python",
   "pygments_lexer": "ipython3",
   "version": "3.11.5"
  }
 },
 "nbformat": 4,
 "nbformat_minor": 4
}
